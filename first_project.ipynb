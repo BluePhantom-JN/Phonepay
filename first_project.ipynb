{
  "nbformat": 4,
  "nbformat_minor": 0,
  "metadata": {
    "colab": {
      "provenance": [],
      "authorship_tag": "ABX9TyNHCh30ZS1AbR/0160WAD3P",
      "include_colab_link": true
    },
    "kernelspec": {
      "name": "python3",
      "display_name": "Python 3"
    },
    "language_info": {
      "name": "python"
    }
  },
  "cells": [
    {
      "cell_type": "markdown",
      "metadata": {
        "id": "view-in-github",
        "colab_type": "text"
      },
      "source": [
        "<a href=\"https://colab.research.google.com/github/BluePhantom-JN/Phonepay/blob/main/first_project.ipynb\" target=\"_parent\"><img src=\"https://colab.research.google.com/assets/colab-badge.svg\" alt=\"Open In Colab\"/></a>"
      ]
    },
    {
      "cell_type": "code",
      "execution_count": 352,
      "metadata": {
        "id": "qaVQGHgFnrRI",
        "colab": {
          "base_uri": "https://localhost:8080/"
        },
        "outputId": "a48e6827-12c8-4c2f-fc02-4a88c3ab3898"
      },
      "outputs": [
        {
          "output_type": "stream",
          "name": "stdout",
          "text": [
            "fatal: destination path 'pulse' already exists and is not an empty directory.\n"
          ]
        }
      ],
      "source": [
        "! git clone https://github.com/PhonePe/pulse.git"
      ]
    },
    {
      "cell_type": "markdown",
      "source": [
        "3 * 3\n",
        "1. aggregagte\n",
        "2. map\n",
        "3. top\n",
        "\n",
        "        1. user\n",
        "        2. transaction\n",
        "        3. insurance\n",
        "\n"
      ],
      "metadata": {
        "id": "AqWt17uG3Y33"
      }
    },
    {
      "cell_type": "code",
      "source": [
        "def extract_transaction_data(path):\n",
        "  import os\n",
        "  import json\n",
        "  agg_state_list=os.listdir(path)\n",
        "\n",
        "  for state in agg_state_list:\n",
        "    p_state=path+state+'/'\n",
        "    agg_year_list=os.listdir(p_state)\n",
        "\n",
        "    for year in agg_year_list:\n",
        "      p_year=p_state+year+'/'\n",
        "      agg_quater_list=os.listdir(p_year)\n",
        "\n",
        "      for quater in agg_quater_list:\n",
        "        p_quater=p_year+quater\n",
        "\n",
        "        with open (p_quater,'r')as data:\n",
        "          D=json.load(data)\n",
        "        yield state,year,int(quater.strip(\".json\")),D    # yield each set at a time\n",
        "        data.close()"
      ],
      "metadata": {
        "id": "M2D3iV4UuJ7Z"
      },
      "execution_count": 409,
      "outputs": []
    },
    {
      "cell_type": "code",
      "source": [
        "# 1*1 agrregated/transaction\n",
        "\n",
        "path=\"/content/pulse/data/aggregated/transaction/country/india/state/\"     # aggregate  1. Transaction\n",
        "import pandas as pd\n",
        "clm={'State':[], 'Year':[],'Quater':[],'Transacion_type':[], 'Transacion_count':[], 'Transacion_amount':[]}\n",
        "\n",
        "for state,year,quater,D in extract_transaction_data(path):\n",
        "\n",
        "  # if D.get('data') and D['data'].get('transactionData') is not None:\n",
        "  user_data=D.get(\"data\",{}).get(\"transactionData\")\n",
        "  if user_data:\n",
        "\n",
        "    for z in D['data']['transactionData']:\n",
        "      clm['State'].append(state)\n",
        "      clm['Year'].append(year)\n",
        "      clm['Quater'].append(quater)\n",
        "\n",
        "      Transacion_type=z['name']\n",
        "      count=z['paymentInstruments'][0]['count']\n",
        "      amount=z['paymentInstruments'][0]['amount']\n",
        "      clm['Transacion_type'].append(Transacion_type)\n",
        "      clm['Transacion_count'].append(count)\n",
        "      clm['Transacion_amount'].append(int(amount))\n",
        "\n",
        "aggr_trans=pd.DataFrame(clm)\n",
        "#aggr_trans"
      ],
      "metadata": {
        "colab": {
          "base_uri": "https://localhost:8080/",
          "height": 424
        },
        "id": "-fLmVNlKcbRr",
        "outputId": "5280a314-c084-49d0-a6f9-c50b09cdf7d4"
      },
      "execution_count": 411,
      "outputs": [
        {
          "output_type": "execute_result",
          "data": {
            "text/plain": [
              "           State  Year  Quater           Transacion_type  Transacion_count  \\\n",
              "0     chandigarh  2018       1  Recharge & bill payments            201262   \n",
              "1     chandigarh  2018       1     Peer-to-peer payments            135136   \n",
              "2     chandigarh  2018       1         Merchant payments             21431   \n",
              "3     chandigarh  2018       1        Financial Services              8473   \n",
              "4     chandigarh  2018       1                    Others             15593   \n",
              "...          ...   ...     ...                       ...               ...   \n",
              "5029       delhi  2023       4         Merchant payments         381250463   \n",
              "5030       delhi  2023       4     Peer-to-peer payments         185276322   \n",
              "5031       delhi  2023       4  Recharge & bill payments          30903762   \n",
              "5032       delhi  2023       4        Financial Services            317005   \n",
              "5033       delhi  2023       4                    Others            403194   \n",
              "\n",
              "      Transacion_amount  \n",
              "0              47479581  \n",
              "1             527998849  \n",
              "2              19477066  \n",
              "3               1865618  \n",
              "4              16614305  \n",
              "...                 ...  \n",
              "5029       168766495844  \n",
              "5030       588131157564  \n",
              "5031        41889435437  \n",
              "5032          501353917  \n",
              "5033          361276587  \n",
              "\n",
              "[5034 rows x 6 columns]"
            ],
            "text/html": [
              "\n",
              "  <div id=\"df-f26af5a6-daa1-440a-a58f-7dc7d677d1cb\" class=\"colab-df-container\">\n",
              "    <div>\n",
              "<style scoped>\n",
              "    .dataframe tbody tr th:only-of-type {\n",
              "        vertical-align: middle;\n",
              "    }\n",
              "\n",
              "    .dataframe tbody tr th {\n",
              "        vertical-align: top;\n",
              "    }\n",
              "\n",
              "    .dataframe thead th {\n",
              "        text-align: right;\n",
              "    }\n",
              "</style>\n",
              "<table border=\"1\" class=\"dataframe\">\n",
              "  <thead>\n",
              "    <tr style=\"text-align: right;\">\n",
              "      <th></th>\n",
              "      <th>State</th>\n",
              "      <th>Year</th>\n",
              "      <th>Quater</th>\n",
              "      <th>Transacion_type</th>\n",
              "      <th>Transacion_count</th>\n",
              "      <th>Transacion_amount</th>\n",
              "    </tr>\n",
              "  </thead>\n",
              "  <tbody>\n",
              "    <tr>\n",
              "      <th>0</th>\n",
              "      <td>chandigarh</td>\n",
              "      <td>2018</td>\n",
              "      <td>1</td>\n",
              "      <td>Recharge &amp; bill payments</td>\n",
              "      <td>201262</td>\n",
              "      <td>47479581</td>\n",
              "    </tr>\n",
              "    <tr>\n",
              "      <th>1</th>\n",
              "      <td>chandigarh</td>\n",
              "      <td>2018</td>\n",
              "      <td>1</td>\n",
              "      <td>Peer-to-peer payments</td>\n",
              "      <td>135136</td>\n",
              "      <td>527998849</td>\n",
              "    </tr>\n",
              "    <tr>\n",
              "      <th>2</th>\n",
              "      <td>chandigarh</td>\n",
              "      <td>2018</td>\n",
              "      <td>1</td>\n",
              "      <td>Merchant payments</td>\n",
              "      <td>21431</td>\n",
              "      <td>19477066</td>\n",
              "    </tr>\n",
              "    <tr>\n",
              "      <th>3</th>\n",
              "      <td>chandigarh</td>\n",
              "      <td>2018</td>\n",
              "      <td>1</td>\n",
              "      <td>Financial Services</td>\n",
              "      <td>8473</td>\n",
              "      <td>1865618</td>\n",
              "    </tr>\n",
              "    <tr>\n",
              "      <th>4</th>\n",
              "      <td>chandigarh</td>\n",
              "      <td>2018</td>\n",
              "      <td>1</td>\n",
              "      <td>Others</td>\n",
              "      <td>15593</td>\n",
              "      <td>16614305</td>\n",
              "    </tr>\n",
              "    <tr>\n",
              "      <th>...</th>\n",
              "      <td>...</td>\n",
              "      <td>...</td>\n",
              "      <td>...</td>\n",
              "      <td>...</td>\n",
              "      <td>...</td>\n",
              "      <td>...</td>\n",
              "    </tr>\n",
              "    <tr>\n",
              "      <th>5029</th>\n",
              "      <td>delhi</td>\n",
              "      <td>2023</td>\n",
              "      <td>4</td>\n",
              "      <td>Merchant payments</td>\n",
              "      <td>381250463</td>\n",
              "      <td>168766495844</td>\n",
              "    </tr>\n",
              "    <tr>\n",
              "      <th>5030</th>\n",
              "      <td>delhi</td>\n",
              "      <td>2023</td>\n",
              "      <td>4</td>\n",
              "      <td>Peer-to-peer payments</td>\n",
              "      <td>185276322</td>\n",
              "      <td>588131157564</td>\n",
              "    </tr>\n",
              "    <tr>\n",
              "      <th>5031</th>\n",
              "      <td>delhi</td>\n",
              "      <td>2023</td>\n",
              "      <td>4</td>\n",
              "      <td>Recharge &amp; bill payments</td>\n",
              "      <td>30903762</td>\n",
              "      <td>41889435437</td>\n",
              "    </tr>\n",
              "    <tr>\n",
              "      <th>5032</th>\n",
              "      <td>delhi</td>\n",
              "      <td>2023</td>\n",
              "      <td>4</td>\n",
              "      <td>Financial Services</td>\n",
              "      <td>317005</td>\n",
              "      <td>501353917</td>\n",
              "    </tr>\n",
              "    <tr>\n",
              "      <th>5033</th>\n",
              "      <td>delhi</td>\n",
              "      <td>2023</td>\n",
              "      <td>4</td>\n",
              "      <td>Others</td>\n",
              "      <td>403194</td>\n",
              "      <td>361276587</td>\n",
              "    </tr>\n",
              "  </tbody>\n",
              "</table>\n",
              "<p>5034 rows × 6 columns</p>\n",
              "</div>\n",
              "    <div class=\"colab-df-buttons\">\n",
              "\n",
              "  <div class=\"colab-df-container\">\n",
              "    <button class=\"colab-df-convert\" onclick=\"convertToInteractive('df-f26af5a6-daa1-440a-a58f-7dc7d677d1cb')\"\n",
              "            title=\"Convert this dataframe to an interactive table.\"\n",
              "            style=\"display:none;\">\n",
              "\n",
              "  <svg xmlns=\"http://www.w3.org/2000/svg\" height=\"24px\" viewBox=\"0 -960 960 960\">\n",
              "    <path d=\"M120-120v-720h720v720H120Zm60-500h600v-160H180v160Zm220 220h160v-160H400v160Zm0 220h160v-160H400v160ZM180-400h160v-160H180v160Zm440 0h160v-160H620v160ZM180-180h160v-160H180v160Zm440 0h160v-160H620v160Z\"/>\n",
              "  </svg>\n",
              "    </button>\n",
              "\n",
              "  <style>\n",
              "    .colab-df-container {\n",
              "      display:flex;\n",
              "      gap: 12px;\n",
              "    }\n",
              "\n",
              "    .colab-df-convert {\n",
              "      background-color: #E8F0FE;\n",
              "      border: none;\n",
              "      border-radius: 50%;\n",
              "      cursor: pointer;\n",
              "      display: none;\n",
              "      fill: #1967D2;\n",
              "      height: 32px;\n",
              "      padding: 0 0 0 0;\n",
              "      width: 32px;\n",
              "    }\n",
              "\n",
              "    .colab-df-convert:hover {\n",
              "      background-color: #E2EBFA;\n",
              "      box-shadow: 0px 1px 2px rgba(60, 64, 67, 0.3), 0px 1px 3px 1px rgba(60, 64, 67, 0.15);\n",
              "      fill: #174EA6;\n",
              "    }\n",
              "\n",
              "    .colab-df-buttons div {\n",
              "      margin-bottom: 4px;\n",
              "    }\n",
              "\n",
              "    [theme=dark] .colab-df-convert {\n",
              "      background-color: #3B4455;\n",
              "      fill: #D2E3FC;\n",
              "    }\n",
              "\n",
              "    [theme=dark] .colab-df-convert:hover {\n",
              "      background-color: #434B5C;\n",
              "      box-shadow: 0px 1px 3px 1px rgba(0, 0, 0, 0.15);\n",
              "      filter: drop-shadow(0px 1px 2px rgba(0, 0, 0, 0.3));\n",
              "      fill: #FFFFFF;\n",
              "    }\n",
              "  </style>\n",
              "\n",
              "    <script>\n",
              "      const buttonEl =\n",
              "        document.querySelector('#df-f26af5a6-daa1-440a-a58f-7dc7d677d1cb button.colab-df-convert');\n",
              "      buttonEl.style.display =\n",
              "        google.colab.kernel.accessAllowed ? 'block' : 'none';\n",
              "\n",
              "      async function convertToInteractive(key) {\n",
              "        const element = document.querySelector('#df-f26af5a6-daa1-440a-a58f-7dc7d677d1cb');\n",
              "        const dataTable =\n",
              "          await google.colab.kernel.invokeFunction('convertToInteractive',\n",
              "                                                    [key], {});\n",
              "        if (!dataTable) return;\n",
              "\n",
              "        const docLinkHtml = 'Like what you see? Visit the ' +\n",
              "          '<a target=\"_blank\" href=https://colab.research.google.com/notebooks/data_table.ipynb>data table notebook</a>'\n",
              "          + ' to learn more about interactive tables.';\n",
              "        element.innerHTML = '';\n",
              "        dataTable['output_type'] = 'display_data';\n",
              "        await google.colab.output.renderOutput(dataTable, element);\n",
              "        const docLink = document.createElement('div');\n",
              "        docLink.innerHTML = docLinkHtml;\n",
              "        element.appendChild(docLink);\n",
              "      }\n",
              "    </script>\n",
              "  </div>\n",
              "\n",
              "\n",
              "    <div id=\"df-b62ce8d5-dac3-4c34-973c-ae5e4f4dd121\">\n",
              "      <button class=\"colab-df-quickchart\" onclick=\"quickchart('df-b62ce8d5-dac3-4c34-973c-ae5e4f4dd121')\"\n",
              "                title=\"Suggest charts\"\n",
              "                style=\"display:none;\">\n",
              "\n",
              "<svg xmlns=\"http://www.w3.org/2000/svg\" height=\"24px\"viewBox=\"0 0 24 24\"\n",
              "     width=\"24px\">\n",
              "    <g>\n",
              "        <path d=\"M19 3H5c-1.1 0-2 .9-2 2v14c0 1.1.9 2 2 2h14c1.1 0 2-.9 2-2V5c0-1.1-.9-2-2-2zM9 17H7v-7h2v7zm4 0h-2V7h2v10zm4 0h-2v-4h2v4z\"/>\n",
              "    </g>\n",
              "</svg>\n",
              "      </button>\n",
              "\n",
              "<style>\n",
              "  .colab-df-quickchart {\n",
              "      --bg-color: #E8F0FE;\n",
              "      --fill-color: #1967D2;\n",
              "      --hover-bg-color: #E2EBFA;\n",
              "      --hover-fill-color: #174EA6;\n",
              "      --disabled-fill-color: #AAA;\n",
              "      --disabled-bg-color: #DDD;\n",
              "  }\n",
              "\n",
              "  [theme=dark] .colab-df-quickchart {\n",
              "      --bg-color: #3B4455;\n",
              "      --fill-color: #D2E3FC;\n",
              "      --hover-bg-color: #434B5C;\n",
              "      --hover-fill-color: #FFFFFF;\n",
              "      --disabled-bg-color: #3B4455;\n",
              "      --disabled-fill-color: #666;\n",
              "  }\n",
              "\n",
              "  .colab-df-quickchart {\n",
              "    background-color: var(--bg-color);\n",
              "    border: none;\n",
              "    border-radius: 50%;\n",
              "    cursor: pointer;\n",
              "    display: none;\n",
              "    fill: var(--fill-color);\n",
              "    height: 32px;\n",
              "    padding: 0;\n",
              "    width: 32px;\n",
              "  }\n",
              "\n",
              "  .colab-df-quickchart:hover {\n",
              "    background-color: var(--hover-bg-color);\n",
              "    box-shadow: 0 1px 2px rgba(60, 64, 67, 0.3), 0 1px 3px 1px rgba(60, 64, 67, 0.15);\n",
              "    fill: var(--button-hover-fill-color);\n",
              "  }\n",
              "\n",
              "  .colab-df-quickchart-complete:disabled,\n",
              "  .colab-df-quickchart-complete:disabled:hover {\n",
              "    background-color: var(--disabled-bg-color);\n",
              "    fill: var(--disabled-fill-color);\n",
              "    box-shadow: none;\n",
              "  }\n",
              "\n",
              "  .colab-df-spinner {\n",
              "    border: 2px solid var(--fill-color);\n",
              "    border-color: transparent;\n",
              "    border-bottom-color: var(--fill-color);\n",
              "    animation:\n",
              "      spin 1s steps(1) infinite;\n",
              "  }\n",
              "\n",
              "  @keyframes spin {\n",
              "    0% {\n",
              "      border-color: transparent;\n",
              "      border-bottom-color: var(--fill-color);\n",
              "      border-left-color: var(--fill-color);\n",
              "    }\n",
              "    20% {\n",
              "      border-color: transparent;\n",
              "      border-left-color: var(--fill-color);\n",
              "      border-top-color: var(--fill-color);\n",
              "    }\n",
              "    30% {\n",
              "      border-color: transparent;\n",
              "      border-left-color: var(--fill-color);\n",
              "      border-top-color: var(--fill-color);\n",
              "      border-right-color: var(--fill-color);\n",
              "    }\n",
              "    40% {\n",
              "      border-color: transparent;\n",
              "      border-right-color: var(--fill-color);\n",
              "      border-top-color: var(--fill-color);\n",
              "    }\n",
              "    60% {\n",
              "      border-color: transparent;\n",
              "      border-right-color: var(--fill-color);\n",
              "    }\n",
              "    80% {\n",
              "      border-color: transparent;\n",
              "      border-right-color: var(--fill-color);\n",
              "      border-bottom-color: var(--fill-color);\n",
              "    }\n",
              "    90% {\n",
              "      border-color: transparent;\n",
              "      border-bottom-color: var(--fill-color);\n",
              "    }\n",
              "  }\n",
              "</style>\n",
              "\n",
              "      <script>\n",
              "        async function quickchart(key) {\n",
              "          const quickchartButtonEl =\n",
              "            document.querySelector('#' + key + ' button');\n",
              "          quickchartButtonEl.disabled = true;  // To prevent multiple clicks.\n",
              "          quickchartButtonEl.classList.add('colab-df-spinner');\n",
              "          try {\n",
              "            const charts = await google.colab.kernel.invokeFunction(\n",
              "                'suggestCharts', [key], {});\n",
              "          } catch (error) {\n",
              "            console.error('Error during call to suggestCharts:', error);\n",
              "          }\n",
              "          quickchartButtonEl.classList.remove('colab-df-spinner');\n",
              "          quickchartButtonEl.classList.add('colab-df-quickchart-complete');\n",
              "        }\n",
              "        (() => {\n",
              "          let quickchartButtonEl =\n",
              "            document.querySelector('#df-b62ce8d5-dac3-4c34-973c-ae5e4f4dd121 button');\n",
              "          quickchartButtonEl.style.display =\n",
              "            google.colab.kernel.accessAllowed ? 'block' : 'none';\n",
              "        })();\n",
              "      </script>\n",
              "    </div>\n",
              "\n",
              "  <div id=\"id_daedb03c-5e0c-4d57-bded-3b03829f4ce6\">\n",
              "    <style>\n",
              "      .colab-df-generate {\n",
              "        background-color: #E8F0FE;\n",
              "        border: none;\n",
              "        border-radius: 50%;\n",
              "        cursor: pointer;\n",
              "        display: none;\n",
              "        fill: #1967D2;\n",
              "        height: 32px;\n",
              "        padding: 0 0 0 0;\n",
              "        width: 32px;\n",
              "      }\n",
              "\n",
              "      .colab-df-generate:hover {\n",
              "        background-color: #E2EBFA;\n",
              "        box-shadow: 0px 1px 2px rgba(60, 64, 67, 0.3), 0px 1px 3px 1px rgba(60, 64, 67, 0.15);\n",
              "        fill: #174EA6;\n",
              "      }\n",
              "\n",
              "      [theme=dark] .colab-df-generate {\n",
              "        background-color: #3B4455;\n",
              "        fill: #D2E3FC;\n",
              "      }\n",
              "\n",
              "      [theme=dark] .colab-df-generate:hover {\n",
              "        background-color: #434B5C;\n",
              "        box-shadow: 0px 1px 3px 1px rgba(0, 0, 0, 0.15);\n",
              "        filter: drop-shadow(0px 1px 2px rgba(0, 0, 0, 0.3));\n",
              "        fill: #FFFFFF;\n",
              "      }\n",
              "    </style>\n",
              "    <button class=\"colab-df-generate\" onclick=\"generateWithVariable('aggr_trans')\"\n",
              "            title=\"Generate code using this dataframe.\"\n",
              "            style=\"display:none;\">\n",
              "\n",
              "  <svg xmlns=\"http://www.w3.org/2000/svg\" height=\"24px\"viewBox=\"0 0 24 24\"\n",
              "       width=\"24px\">\n",
              "    <path d=\"M7,19H8.4L18.45,9,17,7.55,7,17.6ZM5,21V16.75L18.45,3.32a2,2,0,0,1,2.83,0l1.4,1.43a1.91,1.91,0,0,1,.58,1.4,1.91,1.91,0,0,1-.58,1.4L9.25,21ZM18.45,9,17,7.55Zm-12,3A5.31,5.31,0,0,0,4.9,8.1,5.31,5.31,0,0,0,1,6.5,5.31,5.31,0,0,0,4.9,4.9,5.31,5.31,0,0,0,6.5,1,5.31,5.31,0,0,0,8.1,4.9,5.31,5.31,0,0,0,12,6.5,5.46,5.46,0,0,0,6.5,12Z\"/>\n",
              "  </svg>\n",
              "    </button>\n",
              "    <script>\n",
              "      (() => {\n",
              "      const buttonEl =\n",
              "        document.querySelector('#id_daedb03c-5e0c-4d57-bded-3b03829f4ce6 button.colab-df-generate');\n",
              "      buttonEl.style.display =\n",
              "        google.colab.kernel.accessAllowed ? 'block' : 'none';\n",
              "\n",
              "      buttonEl.onclick = () => {\n",
              "        google.colab.notebook.generateWithVariable('aggr_trans');\n",
              "      }\n",
              "      })();\n",
              "    </script>\n",
              "  </div>\n",
              "\n",
              "    </div>\n",
              "  </div>\n"
            ],
            "application/vnd.google.colaboratory.intrinsic+json": {
              "type": "dataframe",
              "variable_name": "aggr_trans",
              "summary": "{\n  \"name\": \"aggr_trans\",\n  \"rows\": 5034,\n  \"fields\": [\n    {\n      \"column\": \"State\",\n      \"properties\": {\n        \"dtype\": \"category\",\n        \"num_unique_values\": 36,\n        \"samples\": [\n          \"delhi\",\n          \"telangana\",\n          \"nagaland\"\n        ],\n        \"semantic_type\": \"\",\n        \"description\": \"\"\n      }\n    },\n    {\n      \"column\": \"Year\",\n      \"properties\": {\n        \"dtype\": \"object\",\n        \"num_unique_values\": 7,\n        \"samples\": [\n          \"2018\",\n          \"2024\",\n          \"2020\"\n        ],\n        \"semantic_type\": \"\",\n        \"description\": \"\"\n      }\n    },\n    {\n      \"column\": \"Quater\",\n      \"properties\": {\n        \"dtype\": \"number\",\n        \"std\": 1,\n        \"min\": 1,\n        \"max\": 4,\n        \"num_unique_values\": 4,\n        \"samples\": [\n          2,\n          4,\n          1\n        ],\n        \"semantic_type\": \"\",\n        \"description\": \"\"\n      }\n    },\n    {\n      \"column\": \"Transacion_type\",\n      \"properties\": {\n        \"dtype\": \"category\",\n        \"num_unique_values\": 5,\n        \"samples\": [\n          \"Peer-to-peer payments\",\n          \"Others\",\n          \"Merchant payments\"\n        ],\n        \"semantic_type\": \"\",\n        \"description\": \"\"\n      }\n    },\n    {\n      \"column\": \"Transacion_count\",\n      \"properties\": {\n        \"dtype\": \"number\",\n        \"std\": 169096816,\n        \"min\": 2,\n        \"max\": 2393917535,\n        \"num_unique_values\": 4966,\n        \"samples\": [\n          52918,\n          112342,\n          659896\n        ],\n        \"semantic_type\": \"\",\n        \"description\": \"\"\n      }\n    },\n    {\n      \"column\": \"Transacion_amount\",\n      \"properties\": {\n        \"dtype\": \"number\",\n        \"std\": 268519963110,\n        \"min\": 34,\n        \"max\": 3095666288407,\n        \"num_unique_values\": 5034,\n        \"samples\": [\n          109794685213,\n          43891,\n          265267298\n        ],\n        \"semantic_type\": \"\",\n        \"description\": \"\"\n      }\n    }\n  ]\n}"
            }
          },
          "metadata": {},
          "execution_count": 411
        }
      ]
    },
    {
      "cell_type": "code",
      "source": [
        "# 1*2 aggregated/user/\n",
        "\n",
        "\n",
        "\n",
        "      # Check if 'data' and 'usersByDevice' exist and are not None\n",
        "\n",
        "                  #   if D.get('data') and D['data'].get('usersByDevice') is not None:\n",
        "\n",
        "      # this code help in getting non null data\n",
        "\n",
        "\n",
        "path=\"/content/pulse/data/aggregated/user/country/india/state/\"\n",
        "clm={'state':[],'year':[],'quater':[],'brand':[],'count':[],'percentage':[]}\n",
        "\n",
        "import pandas as pd\n",
        "for state,year,quater,D in extract_transaction_data(path):\n",
        "      user_data=D.get('data',{}).get('usersByDevice')\n",
        "      if user_data:\n",
        "        for z in user_data:\n",
        "          clm['state'].append(state)\n",
        "          clm['year'].append(year)\n",
        "          clm['quater'].append(quater)\n",
        "\n",
        "          clm['brand'].append(z['brand'])\n",
        "          clm['count'].append(z['count'])\n",
        "          clm['percentage'].append(z['percentage'])\n",
        "\n",
        "aggre_user=pd.DataFrame(clm)\n",
        "#aggre_user"
      ],
      "metadata": {
        "id": "7YtjULr0DG-X"
      },
      "execution_count": 390,
      "outputs": []
    },
    {
      "cell_type": "code",
      "source": [
        "'''path=\"/content/pulse/data/aggregated/user/country/india/2018/1.json\"\n",
        "with open(path,'r') as data:\n",
        "  D=json.load(data)\n",
        "D'''"
      ],
      "metadata": {
        "colab": {
          "base_uri": "https://localhost:8080/",
          "height": 35
        },
        "id": "tYaAXddGIJcL",
        "outputId": "492ea726-3e86-42f4-d697-b9605f281d70"
      },
      "execution_count": 308,
      "outputs": [
        {
          "output_type": "execute_result",
          "data": {
            "text/plain": [
              "'path=\"/content/pulse/data/aggregated/user/country/india/2018/1.json\"\\nwith open(path,\\'r\\') as data:\\n  D=json.load(data)\\nD'"
            ],
            "application/vnd.google.colaboratory.intrinsic+json": {
              "type": "string"
            }
          },
          "metadata": {},
          "execution_count": 308
        }
      ]
    },
    {
      "cell_type": "code",
      "source": [
        "# 1*3 aggregated/insurance\n",
        "\n",
        "path = \"/content/pulse/data/aggregated/insurance/country/india/state/\"\n",
        "clm = {'state':[],'year':[],'quater':[],'type':[],'count':[],'amount':[]}\n",
        "\n",
        "\n",
        "for state,year,quater,D in extract_transaction_data(path):\n",
        "\n",
        "        user_data=D['data']['transactionData']\n",
        "        #user_data=D.get('data',{}).get('transactionData')\n",
        "        if user_data:\n",
        "          for z in user_data:\n",
        "            clm['state'].append(state)\n",
        "            clm['year'].append(year)\n",
        "            clm['quater'].append(quater)\n",
        "\n",
        "            clm['type'].append(z['paymentInstruments'][0]['type'])\n",
        "            clm['count'].append(z['paymentInstruments'][0]['count'])\n",
        "            clm['amount'].append(z['paymentInstruments'][0]['amount'])\n",
        "\n",
        "aggre_insurance=pd.DataFrame(clm)\n",
        "#aggre_insurance"
      ],
      "metadata": {
        "id": "PURTm9U-DKEL"
      },
      "execution_count": 392,
      "outputs": []
    },
    {
      "cell_type": "code",
      "source": [
        "# 2*1 map/insurance\n",
        "\n",
        "\n",
        "path = \"/content/pulse/data/map/insurance/country/india/state/\"\n",
        "\n",
        "clm = {'state':[],'year':[],'quater':[],'lat':[],'lng':[],'metric':[],'label':[]}\n",
        "\n",
        "for state,year,quater,D in extract_transaction_data(path):\n",
        "        user_data=D['data']['data']['data']\n",
        "        if user_data:\n",
        "\n",
        "          for z in user_data:\n",
        "            clm['state'].append(state)\n",
        "            clm['year'].append(year)\n",
        "            clm['quater'].append(quater)\n",
        "\n",
        "            clm['lat'].append(float(z[0]))\n",
        "            clm['lng'].append(float(z[1]))\n",
        "            clm['metric'].append(z[2])\n",
        "            clm['label'].append(z[3])\n",
        "\n",
        "map_insurance=pd.DataFrame(clm)\n",
        "#map_insurance"
      ],
      "metadata": {
        "id": "ob0YlpdARvlp"
      },
      "execution_count": 395,
      "outputs": []
    },
    {
      "cell_type": "code",
      "source": [
        "'''path = \"/content/pulse/data/map/insurance/country/india/state/andaman-&-nicobar-islands/2020/2.json\"\n",
        "with open(path ,'r') as data:\n",
        "  d=json.load(data)\n",
        "d'''"
      ],
      "metadata": {
        "colab": {
          "base_uri": "https://localhost:8080/",
          "height": 35
        },
        "id": "dmJp0U91S3qB",
        "outputId": "f973eb0d-493b-46b3-c36c-c4ebaee4ea0b"
      },
      "execution_count": 311,
      "outputs": [
        {
          "output_type": "execute_result",
          "data": {
            "text/plain": [
              "'path = \"/content/pulse/data/map/insurance/country/india/state/andaman-&-nicobar-islands/2020/2.json\"\\nwith open(path ,\\'r\\') as data:\\n  d=json.load(data)\\nd'"
            ],
            "application/vnd.google.colaboratory.intrinsic+json": {
              "type": "string"
            }
          },
          "metadata": {},
          "execution_count": 311
        }
      ]
    },
    {
      "cell_type": "code",
      "source": [
        "# 2*2 map/transaction/\n",
        "\n",
        "path =\"/content/pulse/data/map/transaction/hover/country/india/state/\"\n",
        "clm = {'state':[],'year':[],'quater':[],'dist_name':[],'type':[],'count':[],'ammount':[]}\n",
        "\n",
        "for state,year,quater,D in extract_transaction_data(path):\n",
        "        user_data=D['data']['hoverDataList']\n",
        "        # data is in list[list[data]] so use for loop to extract data\n",
        "        for x in user_data:\n",
        "          for y in x['metric']:\n",
        "            clm['state'].append(state)\n",
        "            clm['year'].append(year)\n",
        "            clm['quater'].append(quater)\n",
        "\n",
        "            clm['dist_name'].append(x['name'])\n",
        "            clm['type'].append(y['type'])\n",
        "            clm['count'].append(y['count'])\n",
        "            clm['ammount'].append(int(y['amount']))\n",
        "\n",
        "map_transaction=pd.DataFrame(clm)\n",
        "#map_transaction"
      ],
      "metadata": {
        "id": "atTkyomUTBOz"
      },
      "execution_count": 398,
      "outputs": []
    },
    {
      "cell_type": "code",
      "source": [
        "'''path =\"/content/pulse/data/map/transaction/hover/country/india/state/andaman-&-nicobar-islands/2018/1.json\"\n",
        "with open (path ,'r') as data :\n",
        "  D=json.load(data)\n",
        "D'''"
      ],
      "metadata": {
        "colab": {
          "base_uri": "https://localhost:8080/",
          "height": 53
        },
        "id": "-W5oTfx_Wi7v",
        "outputId": "09946a11-4e88-452b-a741-6c600142015a"
      },
      "execution_count": 313,
      "outputs": [
        {
          "output_type": "execute_result",
          "data": {
            "text/plain": [
              "'path =\"/content/pulse/data/map/transaction/hover/country/india/state/andaman-&-nicobar-islands/2018/1.json\"\\nwith open (path ,\\'r\\') as data :\\n  D=json.load(data)\\nD'"
            ],
            "application/vnd.google.colaboratory.intrinsic+json": {
              "type": "string"
            }
          },
          "metadata": {},
          "execution_count": 313
        }
      ]
    },
    {
      "cell_type": "code",
      "source": [
        "# 2*3 map/user\n",
        "\n",
        "path =\"/content/pulse/data/map/user/hover/country/india/state/\"\n",
        "\n",
        "clm = {'state':[],'year':[],'quater':[],'dist_name':[],'registeredUsers':[],'appOpen':[]}\n",
        "for state,year,quater,D in extract_transaction_data(path):\n",
        "        user_data=D['data']['hoverData']\n",
        "        # data is in list[list[data]] so use for loop to extract data\n",
        "\n",
        "        for dist_name,metrics in user_data.items():\n",
        "          registereduser=metrics['registeredUsers']\n",
        "          appOpen=metrics['appOpens']\n",
        "          clm['state'].append(i)\n",
        "          clm['year'].append(j)\n",
        "          clm['quater'].append(quater)\n",
        "          clm['dist_name'].append(dist_name)\n",
        "          clm['registeredUsers'].append(registereduser)\n",
        "          clm['appOpen'].append(appOpen)\n",
        "\n",
        "\n",
        "map_user=pd.DataFrame(clm)\n",
        "#map_user\n"
      ],
      "metadata": {
        "id": "0yVQbhB5mQ5e"
      },
      "execution_count": 402,
      "outputs": []
    },
    {
      "cell_type": "code",
      "source": [
        "'''path=\"/content/pulse/data/map/user/hover/country/india/state/andaman-&-nicobar-islands/2018/1.json\"\n",
        "with open (path ,\"r\")as data:\n",
        "  D=json.load(data)\n",
        "D\n",
        "'''"
      ],
      "metadata": {
        "colab": {
          "base_uri": "https://localhost:8080/",
          "height": 35
        },
        "id": "3RwJt9mEsaFn",
        "outputId": "63f93085-5d26-4022-9ab2-ffe64fa22a57"
      },
      "execution_count": 315,
      "outputs": [
        {
          "output_type": "execute_result",
          "data": {
            "text/plain": [
              "'path=\"/content/pulse/data/map/user/hover/country/india/state/andaman-&-nicobar-islands/2018/1.json\"\\nwith open (path ,\"r\")as data:\\n  D=json.load(data)\\nD\\n'"
            ],
            "application/vnd.google.colaboratory.intrinsic+json": {
              "type": "string"
            }
          },
          "metadata": {},
          "execution_count": 315
        }
      ]
    },
    {
      "cell_type": "code",
      "source": [
        "# 3*1 top/insurance\n",
        "path = \"/content/pulse/data/top/insurance/country/india/state/\"\n",
        "clm = {'state':[],'year':[],'quater':[],'dist_name':[],'count':[],'ammount':[] }\n",
        "\n",
        "for state,year,quater,D in extract_transaction_data(path):\n",
        "        user_data=D['data']['districts']\n",
        "        for dist in user_data:\n",
        "\n",
        "          clm['state'].append(state)\n",
        "          clm['year'].append(year)\n",
        "          clm['quater'].append(quater)\n",
        "\n",
        "          clm['dist_name'].append(dist['entityName'])\n",
        "          clm['count'].append(dist['metric']['count'])\n",
        "          clm['ammount'].append(dist['metric']['amount'])\n",
        "\n",
        "top_insurance=pd.DataFrame(clm)\n",
        "#top_insurance\n",
        "\n"
      ],
      "metadata": {
        "id": "qvrxEbSvzRNa"
      },
      "execution_count": 404,
      "outputs": []
    },
    {
      "cell_type": "code",
      "source": [
        "'''path ='/content/pulse/data/top/insurance/country/india/state/andaman-&-nicobar-islands/2020/2.json'\n",
        "\n",
        "with open (path ,'r')as data:\n",
        "  D=json.load(data)\n",
        "D\n",
        "'''"
      ],
      "metadata": {
        "colab": {
          "base_uri": "https://localhost:8080/",
          "height": 53
        },
        "id": "PK7sE0QMtXhg",
        "outputId": "2d7ec2ef-6ece-422c-9731-dc730ed6d502"
      },
      "execution_count": 320,
      "outputs": [
        {
          "output_type": "execute_result",
          "data": {
            "text/plain": [
              "\"path ='/content/pulse/data/top/insurance/country/india/state/andaman-&-nicobar-islands/2020/2.json'\\n\\nwith open (path ,'r')as data:\\n  D=json.load(data)\\nD\\n\""
            ],
            "application/vnd.google.colaboratory.intrinsic+json": {
              "type": "string"
            }
          },
          "metadata": {},
          "execution_count": 320
        }
      ]
    },
    {
      "cell_type": "code",
      "source": [
        "# 3*2  top/transaction\n",
        "\n",
        "path =\"/content/pulse/data/top/transaction/country/india/state/\"\n",
        "\n",
        "clm = {'state':[],'year':[],'quater':[],'dist_name':[],'count':[],'trans_amount':[]}\n",
        "\n",
        "for state,year,quater,D in extract_transaction_data(path):\n",
        "        user_data=D['data']['districts']\n",
        "        for x in user_data:\n",
        "\n",
        "          clm['state'].append(state)\n",
        "          clm['year'].append(year)\n",
        "          clm['quater'].append(quater)\n",
        "\n",
        "          clm['count'].append(x['metric']['count'])\n",
        "          clm['trans_amount'].append(int(x['metric']['amount']))\n",
        "          clm['dist_name'].append(x['entityName'])\n",
        "\n",
        "top_transaction=pd.DataFrame(clm)\n",
        "#top_transaction\n",
        ""
      ],
      "metadata": {
        "id": "YA3sHVwe_S-_"
      },
      "execution_count": 406,
      "outputs": []
    },
    {
      "cell_type": "code",
      "source": [
        "'''path =\"/content/pulse/data/top/transaction/country/india/state/andaman-&-nicobar-islands/2018/1.json\"\n",
        "with open (path ,'r') as data:\n",
        "  D=json.load(data)\n",
        "D\n",
        "'''"
      ],
      "metadata": {
        "colab": {
          "base_uri": "https://localhost:8080/",
          "height": 53
        },
        "id": "LK87a-idCM8u",
        "outputId": "0dd637cd-8aad-4400-99fc-d8683fe88955"
      },
      "execution_count": 340,
      "outputs": [
        {
          "output_type": "execute_result",
          "data": {
            "text/plain": [
              "'path =\"/content/pulse/data/top/transaction/country/india/state/andaman-&-nicobar-islands/2018/1.json\"\\nwith open (path ,\\'r\\') as data:\\n  D=json.load(data)\\nD\\n'"
            ],
            "application/vnd.google.colaboratory.intrinsic+json": {
              "type": "string"
            }
          },
          "metadata": {},
          "execution_count": 340
        }
      ]
    },
    {
      "cell_type": "code",
      "source": [
        "# 3*3 top/user\n",
        "\n",
        "path =\"/content/pulse/data/top/user/country/india/state/\"\n",
        "\n",
        "clm = {'state':[],'year':[],'quater':[],'dist_name':[],'registeredUsers':[]}\n",
        "\n",
        "for state,year,quater,D in extract_transaction_data(path):\n",
        "        user_data=D['data']['districts']\n",
        "        for x in user_data:\n",
        "\n",
        "          clm['state'].append(state)\n",
        "          clm['year'].append(year)\n",
        "          clm['quater'].append(quater)\n",
        "\n",
        "          clm['dist_name'].append(x['name'])\n",
        "          clm['registeredUsers'].append(x['registeredUsers'])\n",
        "\n",
        "top_user=pd.DataFrame(clm)\n",
        "#top_user\n",
        "\n",
        ""
      ],
      "metadata": {
        "id": "pPRk-I-9CwDr"
      },
      "execution_count": 408,
      "outputs": []
    },
    {
      "cell_type": "code",
      "source": [
        "'''path =\"/content/pulse/data/top/user/country/india/state/andaman-&-nicobar-islands/2018/1.json\"\n",
        "\n",
        "with open (path ,'r') as data:\n",
        "  D=json.load(data)\n",
        "\n",
        "D'''"
      ],
      "metadata": {
        "colab": {
          "base_uri": "https://localhost:8080/",
          "height": 35
        },
        "id": "8o6sSQn6D-EW",
        "outputId": "4db0a2cd-d153-4ee2-e435-748452d56c02"
      },
      "execution_count": 351,
      "outputs": [
        {
          "output_type": "execute_result",
          "data": {
            "text/plain": [
              "'path =\"/content/pulse/data/top/user/country/india/state/andaman-&-nicobar-islands/2018/1.json\"\\n\\nwith open (path ,\\'r\\') as data:\\n  D=json.load(data)\\n\\nD'"
            ],
            "application/vnd.google.colaboratory.intrinsic+json": {
              "type": "string"
            }
          },
          "metadata": {},
          "execution_count": 351
        }
      ]
    }
  ]
}