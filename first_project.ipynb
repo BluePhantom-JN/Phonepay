{
  "nbformat": 4,
  "nbformat_minor": 0,
  "metadata": {
    "colab": {
      "provenance": [],
      "authorship_tag": "ABX9TyMWg0DE2Yg8RiIHXf3ye/Jj",
      "include_colab_link": true
    },
    "kernelspec": {
      "name": "python3",
      "display_name": "Python 3"
    },
    "language_info": {
      "name": "python"
    }
  },
  "cells": [
    {
      "cell_type": "markdown",
      "metadata": {
        "id": "view-in-github",
        "colab_type": "text"
      },
      "source": [
        "<a href=\"https://colab.research.google.com/github/BluePhantom-JN/first-capstone-project/blob/main/first_project.ipynb\" target=\"_parent\"><img src=\"https://colab.research.google.com/assets/colab-badge.svg\" alt=\"Open In Colab\"/></a>"
      ]
    },
    {
      "cell_type": "code",
      "execution_count": 10,
      "metadata": {
        "id": "qaVQGHgFnrRI",
        "colab": {
          "base_uri": "https://localhost:8080/"
        },
        "outputId": "aea2667b-f1db-44fb-fd2e-9b129d26a1f5"
      },
      "outputs": [
        {
          "output_type": "stream",
          "name": "stdout",
          "text": [
            "fatal: destination path 'pulse' already exists and is not an empty directory.\n"
          ]
        }
      ],
      "source": [
        "! git clone https://github.com/PhonePe/pulse.git"
      ]
    },
    {
      "cell_type": "markdown",
      "source": [
        "3 * 3\n",
        "1. aggregagte\n",
        "2. map\n",
        "3. top\n",
        "\n",
        "        1. user\n",
        "        2. transaction\n",
        "        3. insurance\n",
        "\n"
      ],
      "metadata": {
        "id": "AqWt17uG3Y33"
      }
    },
    {
      "cell_type": "code",
      "source": [
        "def extract_transaction_data(path):\n",
        "  import os\n",
        "  import json\n",
        "  agg_state_list=os.listdir(path)\n",
        "\n",
        "  for state in agg_state_list:\n",
        "    p_state=path+state+'/'\n",
        "    agg_year_list=os.listdir(p_state)\n",
        "\n",
        "    for year in agg_year_list:\n",
        "      p_year=p_state+year+'/'\n",
        "      agg_quater_list=os.listdir(p_year)\n",
        "\n",
        "      for quater in agg_quater_list:\n",
        "        p_quater=p_year+quater\n",
        "\n",
        "        with open (p_quater,'r')as data:\n",
        "          D=json.load(data)\n",
        "        yield state,year,int(quater.strip(\".json\")),D    # yield each set at a time\n",
        "        data.close()"
      ],
      "metadata": {
        "id": "M2D3iV4UuJ7Z"
      },
      "execution_count": 11,
      "outputs": []
    },
    {
      "cell_type": "code",
      "source": [
        "# 1*1 agrregated/transaction\n",
        "\n",
        "path=\"/content/pulse/data/aggregated/transaction/country/india/state/\"     # aggregate  1. Transaction\n",
        "import pandas as pd\n",
        "clm={'State':[], 'Year':[],'Quater':[],'Transacion_type':[], 'Transacion_count':[], 'Transacion_amount':[]}\n",
        "\n",
        "for state,year,quater,D in extract_transaction_data(path):\n",
        "\n",
        "  # if D.get('data') and D['data'].get('transactionData') is not None:\n",
        "  user_data=D.get(\"data\",{}).get(\"transactionData\")\n",
        "  if user_data:\n",
        "\n",
        "    for z in D['data']['transactionData']:\n",
        "      clm['State'].append(state)\n",
        "      clm['Year'].append(year)\n",
        "      clm['Quater'].append(quater)\n",
        "\n",
        "      Transacion_type=z['name']\n",
        "      count=z['paymentInstruments'][0]['count']\n",
        "      amount=z['paymentInstruments'][0]['amount']\n",
        "      clm['Transacion_type'].append(Transacion_type)\n",
        "      clm['Transacion_count'].append(count)\n",
        "      clm['Transacion_amount'].append(int(amount))\n",
        "\n",
        "aggr_trans=pd.DataFrame(clm)\n",
        "#aggr_trans"
      ],
      "metadata": {
        "id": "-fLmVNlKcbRr"
      },
      "execution_count": 12,
      "outputs": []
    },
    {
      "cell_type": "code",
      "source": [
        "# 1*2 aggregated/user/\n",
        "\n",
        "\n",
        "\n",
        "      # Check if 'data' and 'usersByDevice' exist and are not None\n",
        "\n",
        "                  #   if D.get('data') and D['data'].get('usersByDevice') is not None:\n",
        "\n",
        "      # this code help in getting non null data\n",
        "\n",
        "\n",
        "path=\"/content/pulse/data/aggregated/user/country/india/state/\"\n",
        "clm={'state':[],'year':[],'quater':[],'brand':[],'count':[],'percentage':[]}\n",
        "\n",
        "import pandas as pd\n",
        "for state,year,quater,D in extract_transaction_data(path):\n",
        "      user_data=D.get('data',{}).get('usersByDevice')\n",
        "      if user_data:\n",
        "        for z in user_data:\n",
        "          clm['state'].append(state)\n",
        "          clm['year'].append(year)\n",
        "          clm['quater'].append(quater)\n",
        "\n",
        "          clm['brand'].append(z['brand'])\n",
        "          clm['count'].append(z['count'])\n",
        "          clm['percentage'].append(z['percentage'])\n",
        "\n",
        "aggre_user=pd.DataFrame(clm)\n",
        "#aggre_user"
      ],
      "metadata": {
        "id": "7YtjULr0DG-X"
      },
      "execution_count": 13,
      "outputs": []
    },
    {
      "cell_type": "code",
      "source": [
        "'''path=\"/content/pulse/data/aggregated/user/country/india/2018/1.json\"\n",
        "with open(path,'r') as data:\n",
        "  D=json.load(data)\n",
        "D'''"
      ],
      "metadata": {
        "colab": {
          "base_uri": "https://localhost:8080/",
          "height": 35
        },
        "id": "tYaAXddGIJcL",
        "outputId": "dcdb8462-2fb3-45e8-a431-dc9de1aa9c48"
      },
      "execution_count": 14,
      "outputs": [
        {
          "output_type": "execute_result",
          "data": {
            "text/plain": [
              "'path=\"/content/pulse/data/aggregated/user/country/india/2018/1.json\"\\nwith open(path,\\'r\\') as data:\\n  D=json.load(data)\\nD'"
            ],
            "application/vnd.google.colaboratory.intrinsic+json": {
              "type": "string"
            }
          },
          "metadata": {},
          "execution_count": 14
        }
      ]
    },
    {
      "cell_type": "code",
      "source": [
        "# 1*3 aggregated/insurance\n",
        "\n",
        "path = \"/content/pulse/data/aggregated/insurance/country/india/state/\"\n",
        "clm = {'state':[],'year':[],'quater':[],'type':[],'count':[],'amount':[]}\n",
        "\n",
        "\n",
        "for state,year,quater,D in extract_transaction_data(path):\n",
        "\n",
        "        user_data=D['data']['transactionData']\n",
        "        #user_data=D.get('data',{}).get('transactionData')\n",
        "        if user_data:\n",
        "          for z in user_data:\n",
        "            clm['state'].append(state)\n",
        "            clm['year'].append(year)\n",
        "            clm['quater'].append(quater)\n",
        "\n",
        "            clm['type'].append(z['paymentInstruments'][0]['type'])\n",
        "            clm['count'].append(z['paymentInstruments'][0]['count'])\n",
        "            clm['amount'].append(z['paymentInstruments'][0]['amount'])\n",
        "\n",
        "aggre_insurance=pd.DataFrame(clm)\n",
        "#aggre_insurance"
      ],
      "metadata": {
        "id": "PURTm9U-DKEL"
      },
      "execution_count": 15,
      "outputs": []
    },
    {
      "cell_type": "code",
      "source": [
        "# 2*1 map/insurance\n",
        "\n",
        "\n",
        "path = \"/content/pulse/data/map/insurance/country/india/state/\"\n",
        "\n",
        "clm = {'state':[],'year':[],'quater':[],'lat':[],'lng':[],'metric':[],'label':[]}\n",
        "\n",
        "for state,year,quater,D in extract_transaction_data(path):\n",
        "        user_data=D['data']['data']['data']\n",
        "        if user_data:\n",
        "\n",
        "          for z in user_data:\n",
        "            clm['state'].append(state)\n",
        "            clm['year'].append(year)\n",
        "            clm['quater'].append(quater)\n",
        "\n",
        "            clm['lat'].append(float(z[0]))\n",
        "            clm['lng'].append(float(z[1]))\n",
        "            clm['metric'].append(z[2])\n",
        "            clm['label'].append(z[3])\n",
        "\n",
        "map_insurance=pd.DataFrame(clm)\n",
        "#map_insurance"
      ],
      "metadata": {
        "id": "ob0YlpdARvlp"
      },
      "execution_count": 16,
      "outputs": []
    },
    {
      "cell_type": "code",
      "source": [
        "'''path = \"/content/pulse/data/map/insurance/country/india/state/andaman-&-nicobar-islands/2020/2.json\"\n",
        "with open(path ,'r') as data:\n",
        "  d=json.load(data)\n",
        "d'''"
      ],
      "metadata": {
        "colab": {
          "base_uri": "https://localhost:8080/",
          "height": 35
        },
        "id": "dmJp0U91S3qB",
        "outputId": "a2138f32-be02-45a4-989b-640efef2576b"
      },
      "execution_count": 17,
      "outputs": [
        {
          "output_type": "execute_result",
          "data": {
            "text/plain": [
              "'path = \"/content/pulse/data/map/insurance/country/india/state/andaman-&-nicobar-islands/2020/2.json\"\\nwith open(path ,\\'r\\') as data:\\n  d=json.load(data)\\nd'"
            ],
            "application/vnd.google.colaboratory.intrinsic+json": {
              "type": "string"
            }
          },
          "metadata": {},
          "execution_count": 17
        }
      ]
    },
    {
      "cell_type": "code",
      "source": [
        "# 2*2 map/transaction/\n",
        "\n",
        "path =\"/content/pulse/data/map/transaction/hover/country/india/state/\"\n",
        "clm = {'state':[],'year':[],'quater':[],'dist_name':[],'type':[],'count':[],'ammount':[]}\n",
        "\n",
        "for state,year,quater,D in extract_transaction_data(path):\n",
        "        user_data=D['data']['hoverDataList']\n",
        "        # data is in list[list[data]] so use for loop to extract data\n",
        "        for x in user_data:\n",
        "          for y in x['metric']:\n",
        "            clm['state'].append(state)\n",
        "            clm['year'].append(year)\n",
        "            clm['quater'].append(quater)\n",
        "\n",
        "            clm['dist_name'].append(x['name'])\n",
        "            clm['type'].append(y['type'])\n",
        "            clm['count'].append(y['count'])\n",
        "            clm['ammount'].append(int(y['amount']))\n",
        "\n",
        "map_transaction=pd.DataFrame(clm)\n",
        "#map_transaction"
      ],
      "metadata": {
        "id": "atTkyomUTBOz"
      },
      "execution_count": 18,
      "outputs": []
    },
    {
      "cell_type": "code",
      "source": [
        "'''path =\"/content/pulse/data/map/transaction/hover/country/india/state/andaman-&-nicobar-islands/2018/1.json\"\n",
        "with open (path ,'r') as data :\n",
        "  D=json.load(data)\n",
        "D'''"
      ],
      "metadata": {
        "colab": {
          "base_uri": "https://localhost:8080/",
          "height": 53
        },
        "id": "-W5oTfx_Wi7v",
        "outputId": "f4bb94ff-71b4-4eb5-fd27-7559ba0d9e1d"
      },
      "execution_count": 19,
      "outputs": [
        {
          "output_type": "execute_result",
          "data": {
            "text/plain": [
              "'path =\"/content/pulse/data/map/transaction/hover/country/india/state/andaman-&-nicobar-islands/2018/1.json\"\\nwith open (path ,\\'r\\') as data :\\n  D=json.load(data)\\nD'"
            ],
            "application/vnd.google.colaboratory.intrinsic+json": {
              "type": "string"
            }
          },
          "metadata": {},
          "execution_count": 19
        }
      ]
    },
    {
      "cell_type": "code",
      "source": [
        "# 2*3 map/user\n",
        "\n",
        "path =\"/content/pulse/data/map/user/hover/country/india/state/\"\n",
        "\n",
        "clm = {'state':[],'year':[],'quater':[],'dist_name':[],'registeredUsers':[],'appOpen':[]}\n",
        "for state,year,quater,D in extract_transaction_data(path):\n",
        "        user_data=D['data']['hoverData']\n",
        "        # data is in list[list[data]] so use for loop to extract data\n",
        "\n",
        "        for dist_name,metrics in user_data.items():\n",
        "          registereduser=metrics['registeredUsers']\n",
        "          appOpen=metrics['appOpens']\n",
        "          clm['state'].append(state)\n",
        "          clm['year'].append(year)\n",
        "          clm['quater'].append(quater)\n",
        "          clm['dist_name'].append(dist_name)\n",
        "          clm['registeredUsers'].append(registereduser)\n",
        "          clm['appOpen'].append(appOpen)\n",
        "\n",
        "\n",
        "map_user=pd.DataFrame(clm)\n",
        "#map_user\n"
      ],
      "metadata": {
        "id": "0yVQbhB5mQ5e"
      },
      "execution_count": 21,
      "outputs": []
    },
    {
      "cell_type": "code",
      "source": [
        "'''path=\"/content/pulse/data/map/user/hover/country/india/state/andaman-&-nicobar-islands/2018/1.json\"\n",
        "with open (path ,\"r\")as data:\n",
        "  D=json.load(data)\n",
        "D\n",
        "'''"
      ],
      "metadata": {
        "colab": {
          "base_uri": "https://localhost:8080/",
          "height": 35
        },
        "id": "3RwJt9mEsaFn",
        "outputId": "570cd6ab-b550-44f5-e483-382b0383c311"
      },
      "execution_count": 22,
      "outputs": [
        {
          "output_type": "execute_result",
          "data": {
            "text/plain": [
              "'path=\"/content/pulse/data/map/user/hover/country/india/state/andaman-&-nicobar-islands/2018/1.json\"\\nwith open (path ,\"r\")as data:\\n  D=json.load(data)\\nD\\n'"
            ],
            "application/vnd.google.colaboratory.intrinsic+json": {
              "type": "string"
            }
          },
          "metadata": {},
          "execution_count": 22
        }
      ]
    },
    {
      "cell_type": "code",
      "source": [
        "# 3*1 top/insurance\n",
        "path = \"/content/pulse/data/top/insurance/country/india/state/\"\n",
        "clm = {'state':[],'year':[],'quater':[],'dist_name':[],'count':[],'ammount':[] }\n",
        "\n",
        "for state,year,quater,D in extract_transaction_data(path):\n",
        "        user_data=D['data']['districts']\n",
        "        for dist in user_data:\n",
        "\n",
        "          clm['state'].append(state)\n",
        "          clm['year'].append(year)\n",
        "          clm['quater'].append(quater)\n",
        "\n",
        "          clm['dist_name'].append(dist['entityName'])\n",
        "          clm['count'].append(dist['metric']['count'])\n",
        "          clm['ammount'].append(dist['metric']['amount'])\n",
        "\n",
        "top_insurance=pd.DataFrame(clm)\n",
        "#top_insurance\n",
        "\n"
      ],
      "metadata": {
        "id": "qvrxEbSvzRNa"
      },
      "execution_count": 23,
      "outputs": []
    },
    {
      "cell_type": "code",
      "source": [
        "'''path ='/content/pulse/data/top/insurance/country/india/state/andaman-&-nicobar-islands/2020/2.json'\n",
        "\n",
        "with open (path ,'r')as data:\n",
        "  D=json.load(data)\n",
        "D\n",
        "'''"
      ],
      "metadata": {
        "colab": {
          "base_uri": "https://localhost:8080/",
          "height": 53
        },
        "id": "PK7sE0QMtXhg",
        "outputId": "9da0f8ff-56b2-4997-f22a-ca8e26ce524d"
      },
      "execution_count": 24,
      "outputs": [
        {
          "output_type": "execute_result",
          "data": {
            "text/plain": [
              "\"path ='/content/pulse/data/top/insurance/country/india/state/andaman-&-nicobar-islands/2020/2.json'\\n\\nwith open (path ,'r')as data:\\n  D=json.load(data)\\nD\\n\""
            ],
            "application/vnd.google.colaboratory.intrinsic+json": {
              "type": "string"
            }
          },
          "metadata": {},
          "execution_count": 24
        }
      ]
    },
    {
      "cell_type": "code",
      "source": [
        "# 3*2  top/transaction\n",
        "\n",
        "path =\"/content/pulse/data/top/transaction/country/india/state/\"\n",
        "\n",
        "clm = {'state':[],'year':[],'quater':[],'dist_name':[],'count':[],'trans_amount':[]}\n",
        "\n",
        "for state,year,quater,D in extract_transaction_data(path):\n",
        "        user_data=D['data']['districts']\n",
        "        for x in user_data:\n",
        "\n",
        "          clm['state'].append(state)\n",
        "          clm['year'].append(year)\n",
        "          clm['quater'].append(quater)\n",
        "\n",
        "          clm['count'].append(x['metric']['count'])\n",
        "          clm['trans_amount'].append(int(x['metric']['amount']))\n",
        "          clm['dist_name'].append(x['entityName'])\n",
        "\n",
        "top_transaction=pd.DataFrame(clm)\n",
        "#top_transaction\n"
      ],
      "metadata": {
        "id": "YA3sHVwe_S-_"
      },
      "execution_count": 25,
      "outputs": []
    },
    {
      "cell_type": "code",
      "source": [
        "'''path =\"/content/pulse/data/top/transaction/country/india/state/andaman-&-nicobar-islands/2018/1.json\"\n",
        "with open (path ,'r') as data:\n",
        "  D=json.load(data)\n",
        "D\n",
        "'''"
      ],
      "metadata": {
        "colab": {
          "base_uri": "https://localhost:8080/",
          "height": 53
        },
        "id": "LK87a-idCM8u",
        "outputId": "a7e3ffe3-b41e-423a-f523-f0399ac2d31d"
      },
      "execution_count": 26,
      "outputs": [
        {
          "output_type": "execute_result",
          "data": {
            "text/plain": [
              "'path =\"/content/pulse/data/top/transaction/country/india/state/andaman-&-nicobar-islands/2018/1.json\"\\nwith open (path ,\\'r\\') as data:\\n  D=json.load(data)\\nD\\n'"
            ],
            "application/vnd.google.colaboratory.intrinsic+json": {
              "type": "string"
            }
          },
          "metadata": {},
          "execution_count": 26
        }
      ]
    },
    {
      "cell_type": "code",
      "source": [
        "# 3*3 top/user\n",
        "\n",
        "path =\"/content/pulse/data/top/user/country/india/state/\"\n",
        "\n",
        "clm = {'state':[],'year':[],'quater':[],'dist_name':[],'registeredUsers':[]}\n",
        "\n",
        "for state,year,quater,D in extract_transaction_data(path):\n",
        "        user_data=D['data']['districts']\n",
        "        for x in user_data:\n",
        "\n",
        "          clm['state'].append(state)\n",
        "          clm['year'].append(year)\n",
        "          clm['quater'].append(quater)\n",
        "\n",
        "          clm['dist_name'].append(x['name'])\n",
        "          clm['registeredUsers'].append(x['registeredUsers'])\n",
        "\n",
        "top_user=pd.DataFrame(clm)\n",
        "#top_user\n",
        "\n"
      ],
      "metadata": {
        "id": "pPRk-I-9CwDr"
      },
      "execution_count": 27,
      "outputs": []
    },
    {
      "cell_type": "code",
      "source": [
        "'''path =\"/content/pulse/data/top/user/country/india/state/andaman-&-nicobar-islands/2018/1.json\"\n",
        "\n",
        "with open (path ,'r') as data:\n",
        "  D=json.load(data)\n",
        "\n",
        "D'''"
      ],
      "metadata": {
        "colab": {
          "base_uri": "https://localhost:8080/",
          "height": 35
        },
        "id": "8o6sSQn6D-EW",
        "outputId": "962042a0-4328-4f5e-84fc-e9b41ad66496"
      },
      "execution_count": 28,
      "outputs": [
        {
          "output_type": "execute_result",
          "data": {
            "text/plain": [
              "'path =\"/content/pulse/data/top/user/country/india/state/andaman-&-nicobar-islands/2018/1.json\"\\n\\nwith open (path ,\\'r\\') as data:\\n  D=json.load(data)\\n\\nD'"
            ],
            "application/vnd.google.colaboratory.intrinsic+json": {
              "type": "string"
            }
          },
          "metadata": {},
          "execution_count": 28
        }
      ]
    },
    {
      "cell_type": "code",
      "source": [],
      "metadata": {
        "id": "bopcz4yfYhc7"
      },
      "execution_count": 28,
      "outputs": []
    }
  ]
}